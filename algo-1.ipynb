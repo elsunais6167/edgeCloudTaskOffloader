{
 "cells": [
  {
   "cell_type": "code",
   "execution_count": 14,
   "metadata": {},
   "outputs": [
    {
     "name": "stdout",
     "output_type": "stream",
     "text": [
      "For 50 devices, the best position is 0.9984927910725686, with energy consumption 241.4397204776988, and mean completion time 2.709516687522825 in iteration number 100\n",
      "For 100 devices, the best position is 0.9996747051759948, with energy consumption 483.2321814492784, and mean completion time 3.7505269659884597 in iteration number 100\n",
      "For 150 devices, the best position is 0.9997808313678386, with energy consumption 724.8935210495968, and mean completion time 4.792221342968935 in iteration number 100\n",
      "For 200 devices, the best position is 0.9998096840770895, with energy consumption 966.5523792446112, and mean completion time 5.833928665371911 in iteration number 100\n",
      "For 250 devices, the best position is 0.9994669213530033, with energy consumption 1207.8729800183419, and mean completion time 6.8773987778008925 in iteration number 100\n",
      "For 300 devices, the best position is 0.9993374106841827, with energy consumption 1449.3539501994455, and mean completion time 7.920033321900341 in iteration number 100\n"
     ]
    }
   ],
   "source": [
    "import numpy as np\n",
    "\n",
    "# Constants\n",
    "n_iterations = 100  # number of iterations\n",
    "n_device = [50, 100, 150, 200, 250, 300]  # number of devices\n",
    "n_mecs = 10  # number of MECs\n",
    "mec_capacity = 4  # MEC computing capacity (GHz)\n",
    "transmission_power = 0.5  # Transmission power (W)\n",
    "\n",
    "# Voltages (assumed constants)\n",
    "mec_voltage = 1.0  # Assumed voltage for MEC\n",
    "device_voltage = 1.0  # Assumed voltage for device\n",
    "\n",
    "# Task data (Mbit)\n",
    "task_data = np.array([5, 10, 15, 20, 25, 30, 35, 40, 45])\n",
    "transmission_rate = np.array([500, 1000, 1500, 2000, 2500, 3000]) * 1e-3  # Convert to Mbit/s\n",
    "\n",
    "def fitness(position, device_capacity, td, tr):\n",
    "    transmission_time = td / tr\n",
    "    computation_time = td / (position * mec_capacity + (1 - position) * device_capacity) * n / 60\n",
    "\n",
    "    energy_transmission = n * transmission_power * transmission_time  # energy consumed during transmission\n",
    "    energy_computation_mec = n * position * mec_capacity * mec_voltage ** 2\n",
    "    energy_computation_device = n * (1 - position) * device_capacity * device_voltage ** 2\n",
    "\n",
    "    total_energy_consumption = energy_transmission + energy_computation_mec + energy_computation_device\n",
    "    cost = transmission_time + computation_time\n",
    "    mean_completion_time = cost  # Since the number of tasks is 1 per particle, total time is mean time\n",
    "\n",
    "    return cost, total_energy_consumption, mean_completion_time\n",
    "\n",
    "\n",
    "for n in n_device:\n",
    "    n_particles = n * n_mecs\n",
    "    device_capacity = np.random.uniform(0.5, 1, n_particles)\n",
    "    task_data_per_particle = np.random.choice(task_data, n_particles)\n",
    "    transmission_rate_per_particle = np.random.choice(transmission_rate, n_particles)\n",
    "\n",
    "    particles = np.random.uniform(0, 1, size=n_particles)\n",
    "    pbest_positions = particles.copy()\n",
    "    pbest_fitness_value = np.full(n_particles, float('inf'))\n",
    "\n",
    "    gbest_fitness_value = float('inf')\n",
    "    gbest_position = 0\n",
    "\n",
    "    for i in range(n_iterations):\n",
    "        fitness_values, energy_consumptions, mean_completion_times = np.vectorize(fitness)(particles, device_capacity, task_data_per_particle, transmission_rate_per_particle)\n",
    "\n",
    "        # Update pbest and gbest\n",
    "        update_pbest = fitness_values < pbest_fitness_value\n",
    "        pbest_positions[update_pbest] = particles[update_pbest]\n",
    "        pbest_fitness_value[update_pbest] = fitness_values[update_pbest]\n",
    "\n",
    "        min_fitness_idx = np.argmin(fitness_values)\n",
    "        if fitness_values[min_fitness_idx] < gbest_fitness_value:\n",
    "            gbest_fitness_value = fitness_values[min_fitness_idx]\n",
    "            gbest_position = particles[min_fitness_idx]\n",
    "            gbest_energy_consumption = energy_consumptions[min_fitness_idx]\n",
    "            gbest_mean_completion_time = mean_completion_times[min_fitness_idx]\n",
    "\n",
    "        # Update particles' positions\n",
    "        particles = pbest_positions + 0.5 * np.random.rand(n_particles) * (gbest_position - pbest_positions)\n",
    "        particles = np.random.uniform(0, 1, size=n_particles)\n",
    "\n",
    "    print(f\"For {n} devices, the best position is {gbest_position}, with energy consumption {gbest_energy_consumption}, \"\n",
    "          f\"and mean completion time {gbest_mean_completion_time} in iteration number {n_iterations}\")\n"
   ]
  }
 ],
 "metadata": {
  "kernelspec": {
   "display_name": "Python 3",
   "language": "python",
   "name": "python3"
  },
  "language_info": {
   "codemirror_mode": {
    "name": "ipython",
    "version": 3
   },
   "file_extension": ".py",
   "mimetype": "text/x-python",
   "name": "python",
   "nbconvert_exporter": "python",
   "pygments_lexer": "ipython3",
   "version": "3.11.5"
  },
  "orig_nbformat": 4
 },
 "nbformat": 4,
 "nbformat_minor": 2
}
